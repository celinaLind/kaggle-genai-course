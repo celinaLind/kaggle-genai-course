{
 "cells": [
  {
   "cell_type": "markdown",
   "id": "6d9b7cf4",
   "metadata": {
    "id": "jkxRSYjzA1oX",
    "papermill": {
     "duration": 0.018943,
     "end_time": "2024-11-15T20:49:06.290627",
     "exception": false,
     "start_time": "2024-11-15T20:49:06.271684",
     "status": "completed"
    },
    "tags": []
   },
   "source": [
    "##### Copyright 2024 Google LLC."
   ]
  },
  {
   "cell_type": "code",
   "execution_count": 1,
   "id": "771cd941",
   "metadata": {
    "cellView": "form",
    "execution": {
     "iopub.execute_input": "2024-11-15T20:49:06.330228Z",
     "iopub.status.busy": "2024-11-15T20:49:06.329778Z",
     "iopub.status.idle": "2024-11-15T20:49:06.336779Z",
     "shell.execute_reply": "2024-11-15T20:49:06.335432Z"
    },
    "id": "5u5OZ2ShA3BA",
    "jupyter": {
     "source_hidden": true
    },
    "papermill": {
     "duration": 0.030447,
     "end_time": "2024-11-15T20:49:06.339489",
     "exception": false,
     "start_time": "2024-11-15T20:49:06.309042",
     "status": "completed"
    },
    "tags": []
   },
   "outputs": [],
   "source": [
    "# @title Licensed under the Apache License, Version 2.0 (the \"License\");\n",
    "# you may not use this file except in compliance with the License.\n",
    "# You may obtain a copy of the License at\n",
    "#\n",
    "# https://www.apache.org/licenses/LICENSE-2.0\n",
    "#\n",
    "# Unless required by applicable law or agreed to in writing, software\n",
    "# distributed under the License is distributed on an \"AS IS\" BASIS,\n",
    "# WITHOUT WARRANTIES OR CONDITIONS OF ANY KIND, either express or implied.\n",
    "# See the License for the specific language governing permissions and\n",
    "# limitations under the License."
   ]
  },
  {
   "cell_type": "markdown",
   "id": "09a16518",
   "metadata": {
    "id": "csNPnkuCobmG",
    "papermill": {
     "duration": 0.017865,
     "end_time": "2024-11-15T20:49:06.375775",
     "exception": false,
     "start_time": "2024-11-15T20:49:06.357910",
     "status": "completed"
    },
    "tags": []
   },
   "source": [
    "# Day 1 - Prompting\n",
    "\n",
    "Welcome to the Kaggle 5-day Generative AI course!\n",
    "\n",
    "This notebook will show you how to get started with the Gemini API and walk you through some of the example prompts and techniques that you can also read about in the Prompting whitepaper. You don't need to read the whitepaper to use this notebook, but the papers will give you some theoretical context and background to complement this interactive notebook.\n",
    "\n",
    "\n",
    "## Before you begin\n",
    "\n",
    "In this notebook, you'll start exploring prompts and prompt parameters using the Python SDK and AI Studio. For some inspiration, you might enjoy exploring some apps that have been built using the Gemini family of models. Here are a few that we like, and we think you will too.\n",
    "\n",
    "* [TextFX](https://textfx.withgoogle.com/) is a suite of AI-powered tools for rappers, made in collaboration with Lupe Fiasco,\n",
    "* [SQL Talk](https://sql-talk-r5gdynozbq-uc.a.run.app/) shows how you can talk directly to a database using the Gemini API,\n",
    "* [NotebookLM](https://notebooklm.google/) uses Gemini models to build your own personal AI research assistant.\n",
    "\n",
    "\n",
    "## For help\n",
    "\n",
    "**Common issues are covered in the [FAQ and troubleshooting guide](https://www.kaggle.com/code/markishere/day-0-troubleshooting-and-faqs).**\n",
    "\n",
    "### A note on the Gemini API and Vertex AI\n",
    "\n",
    "In the whitepapers, most of the example code uses the Enterprise [Vertex AI platform](https://cloud.google.com/vertex-ai). In contrast, this notebook, along with the others in this series, will use the [Gemini Developer API](https://ai.google.dev/gemini-api/) and [AI Studio](https://aistudio.google.com/).\n",
    "\n",
    "Both APIs provide access to the Gemini family of models, and the code to interact with the models is very similar. Vertex provides a world-class platform for enterprises, governments and advanced users that need powerful features like data governance, ML ops and deep Google Cloud integration.\n",
    "\n",
    "AI Studio is free to use and only requires a compatible Google account to log in and get started. It is deeply integrated with the Gemini API, which comes with a generous [free tier](https://ai.google.dev/pricing) that you can use to run the code in these exercises.\n",
    "\n",
    "If you are already set up with Google Cloud, you can check out the [Enterprise Gemini API](https://cloud.google.com/vertex-ai/generative-ai/docs/model-reference/inference) through Vertex AI, and run the samples directly from the supplied whitepapers."
   ]
  },
  {
   "attachments": {},
   "cell_type": "markdown",
   "id": "0e7cbdb2",
   "metadata": {
    "id": "f00ea7c99e44",
    "papermill": {
     "duration": 0.0178,
     "end_time": "2024-11-15T20:49:06.411716",
     "exception": false,
     "start_time": "2024-11-15T20:49:06.393916",
     "status": "completed"
    },
    "tags": []
   },
   "source": [
    "## Get started with Kaggle notebooks\n",
    "\n",
    "If this is your first time using a Kaggle notebook, welcome! You can read about how to use Kaggle notebooks [in the docs](https://www.kaggle.com/docs/notebooks).\n",
    "\n",
    "First, you will need to phone verify your account at kaggle.com/settings.\n",
    "\n",
    "![](https://storage.googleapis.com/kaggle-media/Images/5dgai_0.png)"
   ]
  },
  {
   "cell_type": "markdown",
   "id": "f5f9938a",
   "metadata": {
    "papermill": {
     "duration": 0.017676,
     "end_time": "2024-11-15T20:49:06.447474",
     "exception": false,
     "start_time": "2024-11-15T20:49:06.429798",
     "status": "completed"
    },
    "tags": []
   },
   "source": [
    "To run this notebook, as well as the others in this course, you will need to make a copy, or fork, the notebook. Look for the `Copy and Edit` button in the top-right, and **click it** to make an editable, private copy of the notebook. It should look like this one:\n",
    "\n",
    "![Copy and Edit button](https://storage.googleapis.com/kaggle-media/Images/5gdai_sc_1.png)\n",
    "\n",
    "Your copy will now have a ▶️ **Run** button next to each code cell that you can press to execute that cell. These notebooks are expected to be run in order from top-to-bottom, but you are encouraged to add new cells, run your own code and explore. If you get stuck, you can try the `Factory reset` option in the `Run` menu, or head back to the original notebook and make a fresh copy.\n",
    "\n",
    "![Run cell button](https://storage.googleapis.com/kaggle-media/Images/5gdai_sc_2.png)\n",
    "\n",
    "### Problems?\n",
    "\n",
    "If you have any problems, head over to the [Kaggle Discord](https://discord.com/invite/kaggle), find the [`#5dgai-q-and-a` channel](https://discord.com/channels/1101210829807956100/1303438695143178251) and ask for help."
   ]
  },
  {
   "cell_type": "markdown",
   "id": "16e50347",
   "metadata": {
    "id": "ExkOXcPxtTb5",
    "papermill": {
     "duration": 0.018574,
     "end_time": "2024-11-15T20:49:06.484194",
     "exception": false,
     "start_time": "2024-11-15T20:49:06.465620",
     "status": "completed"
    },
    "tags": []
   },
   "source": [
    "## Get started with the Gemini API\n",
    "\n",
    "All of the exercises in this notebook will use the [Gemini API](https://ai.google.dev/gemini-api/) by way of the [Python SDK](https://pypi.org/project/google-generativeai/). Each of these prompts can be accessed directly in [Google AI Studio](https://aistudio.google.com/) too, so if you would rather use a web interface and skip the code for this activity, look for the <img src=\"https://ai.google.dev/site-assets/images/marketing/home/icon-ais.png\" style=\"height: 24px\" height=24/> AI Studio link on each prompt."
   ]
  },
  {
   "cell_type": "markdown",
   "id": "957e1163",
   "metadata": {
    "papermill": {
     "duration": 0.017955,
     "end_time": "2024-11-15T20:49:06.520658",
     "exception": false,
     "start_time": "2024-11-15T20:49:06.502703",
     "status": "completed"
    },
    "tags": []
   },
   "source": [
    "Next, you will need to add your API key to your Kaggle Notebook as a Kaggle User Secret.\n",
    "\n",
    "![](https://storage.googleapis.com/kaggle-media/Images/5dgai_1.png)\n",
    "![](https://storage.googleapis.com/kaggle-media/Images/5dgai_2.png)\n",
    "![](https://storage.googleapis.com/kaggle-media/Images/5dgai_3.png)\n",
    "![](https://storage.googleapis.com/kaggle-media/Images/5dgai_4.png)"
   ]
  },
  {
   "cell_type": "markdown",
   "id": "39615021",
   "metadata": {
    "id": "UAjUV3BsvFXQ",
    "papermill": {
     "duration": 0.018327,
     "end_time": "2024-11-15T20:49:06.557842",
     "exception": false,
     "start_time": "2024-11-15T20:49:06.539515",
     "status": "completed"
    },
    "tags": []
   },
   "source": [
    "### Install the SDK"
   ]
  },
  {
   "cell_type": "code",
   "execution_count": 2,
   "id": "39ba04f1",
   "metadata": {
    "execution": {
     "iopub.execute_input": "2024-11-15T20:49:06.597749Z",
     "iopub.status.busy": "2024-11-15T20:49:06.597296Z",
     "iopub.status.idle": "2024-11-15T20:49:41.253715Z",
     "shell.execute_reply": "2024-11-15T20:49:41.252181Z"
    },
    "id": "NzwzJFU9LqkJ",
    "papermill": {
     "duration": 34.699154,
     "end_time": "2024-11-15T20:49:41.275092",
     "exception": false,
     "start_time": "2024-11-15T20:49:06.575938",
     "status": "completed"
    },
    "tags": []
   },
   "outputs": [
    {
     "name": "stdout",
     "output_type": "stream",
     "text": [
      "Note: you may need to restart the kernel to use updated packages.\n"
     ]
    }
   ],
   "source": [
    "%pip install -U -q \"google-generativeai>=0.8.3\""
   ]
  },
  {
   "cell_type": "code",
   "execution_count": 3,
   "id": "775a7688",
   "metadata": {
    "execution": {
     "iopub.execute_input": "2024-11-15T20:49:41.315817Z",
     "iopub.status.busy": "2024-11-15T20:49:41.315301Z",
     "iopub.status.idle": "2024-11-15T20:49:42.669080Z",
     "shell.execute_reply": "2024-11-15T20:49:42.667838Z"
    },
    "id": "5DwxYIRavMST",
    "papermill": {
     "duration": 1.37802,
     "end_time": "2024-11-15T20:49:42.672035",
     "exception": false,
     "start_time": "2024-11-15T20:49:41.294015",
     "status": "completed"
    },
    "tags": []
   },
   "outputs": [],
   "source": [
    "import google.generativeai as genai\n",
    "from IPython.display import HTML, Markdown, display"
   ]
  },
  {
   "cell_type": "markdown",
   "id": "1dd8bd9f",
   "metadata": {
    "id": "DNEt2BCOvOJ1",
    "papermill": {
     "duration": 0.018155,
     "end_time": "2024-11-15T20:49:42.708569",
     "exception": false,
     "start_time": "2024-11-15T20:49:42.690414",
     "status": "completed"
    },
    "tags": []
   },
   "source": [
    "### Set up your API key\n",
    "\n",
    "To run the following cell, your API key must be stored it in a [Kaggle secret](https://www.kaggle.com/discussions/product-feedback/114053) named `GOOGLE_API_KEY`.\n",
    "\n",
    "If you don't already have an API key, you can grab one from [AI Studio](https://aistudio.google.com/app/apikey). You can find [detailed instructions in the docs](https://ai.google.dev/gemini-api/docs/api-key).\n",
    "\n",
    "To make the key available through Kaggle secrets, choose `Secrets` from the `Add-ons` menu and follow the instructions to add your key or enable it for this notebook."
   ]
  },
  {
   "cell_type": "code",
   "execution_count": 4,
   "id": "9e606a99",
   "metadata": {
    "execution": {
     "iopub.execute_input": "2024-11-15T20:49:42.749131Z",
     "iopub.status.busy": "2024-11-15T20:49:42.747701Z",
     "iopub.status.idle": "2024-11-15T20:49:42.970699Z",
     "shell.execute_reply": "2024-11-15T20:49:42.969488Z"
    },
    "id": "SHl0bkPCvayd",
    "papermill": {
     "duration": 0.246526,
     "end_time": "2024-11-15T20:49:42.973429",
     "exception": false,
     "start_time": "2024-11-15T20:49:42.726903",
     "status": "completed"
    },
    "tags": []
   },
   "outputs": [],
   "source": [
    "from kaggle_secrets import UserSecretsClient\n",
    "\n",
    "GOOGLE_API_KEY = UserSecretsClient().get_secret(\"GOOGLE_API_KEY\")\n",
    "genai.configure(api_key=GOOGLE_API_KEY)"
   ]
  },
  {
   "attachments": {},
   "cell_type": "markdown",
   "id": "4a5bbf68",
   "metadata": {
    "id": "4e720472fd86",
    "papermill": {
     "duration": 0.018508,
     "end_time": "2024-11-15T20:49:43.010894",
     "exception": false,
     "start_time": "2024-11-15T20:49:42.992386",
     "status": "completed"
    },
    "tags": []
   },
   "source": [
    "If you received an error response along the lines of `No user secrets exist for kernel id ...`, then you need to add your API key via `Add-ons`, `Secrets` **and** enable it.\n",
    "\n",
    "![Screenshot of the checkbox to enable GOOGLE_API_KEY secret](https://storage.googleapis.com/kaggle-media/Images/5gdai_sc_3.png)"
   ]
  },
  {
   "cell_type": "markdown",
   "id": "c1218163",
   "metadata": {
    "id": "H_YXCYIKvyZJ",
    "papermill": {
     "duration": 0.01853,
     "end_time": "2024-11-15T20:49:43.048372",
     "exception": false,
     "start_time": "2024-11-15T20:49:43.029842",
     "status": "completed"
    },
    "tags": []
   },
   "source": [
    "### Run your first prompt\n",
    "\n",
    "In this step, you will test that your API key is set up correctly by making a request. The `gemini-1.5-flash` model has been selected here."
   ]
  },
  {
   "cell_type": "code",
   "execution_count": 5,
   "id": "dbcb1f73",
   "metadata": {
    "execution": {
     "iopub.execute_input": "2024-11-15T20:49:43.088599Z",
     "iopub.status.busy": "2024-11-15T20:49:43.087489Z",
     "iopub.status.idle": "2024-11-15T20:49:58.856484Z",
     "shell.execute_reply": "2024-11-15T20:49:58.855118Z"
    },
    "id": "BV1o0PmcvyJF",
    "papermill": {
     "duration": 15.791622,
     "end_time": "2024-11-15T20:49:58.859314",
     "exception": false,
     "start_time": "2024-11-15T20:49:43.067692",
     "status": "completed"
    },
    "tags": []
   },
   "outputs": [
    {
     "name": "stdout",
     "output_type": "stream",
     "text": [
      "Imagine you have a super smart puppy.  You teach it tricks, like \"sit\" and \"fetch.\"  At first, it doesn't understand, but you show it again and again, giving it treats when it gets it right.  Slowly, the puppy learns!\n",
      "\n",
      "AI is kind of like that super smart puppy, but instead of treats, we give it lots and lots of information.  We teach it to recognize things like pictures of cats and dogs, or to understand what you're saying when you ask it a question.  The more information we give it, the smarter it gets at doing things we ask it to do.\n",
      "\n",
      "It doesn't really *think* like a person, it just follows instructions very, very well based on all the information it's learned.  It can do things like:\n",
      "\n",
      "* **Play games:**  Think chess or video games!\n",
      "* **Answer questions:**  Like asking it \"What's the capital of France?\"\n",
      "* **Recognize faces:**  Like on your phone when it unlocks with your face.\n",
      "* **Translate languages:**  So you can understand what people from other countries are saying.\n",
      "\n",
      "So, AI is basically a really smart computer program that learns from information and can do lots of cool things!\n",
      "\n"
     ]
    }
   ],
   "source": [
    "flash = genai.GenerativeModel('gemini-1.5-flash')\n",
    "response = flash.generate_content(\"Explain AI to me like I'm a kid.\")\n",
    "print(response.text)"
   ]
  },
  {
   "cell_type": "markdown",
   "id": "953514b6",
   "metadata": {
    "id": "f60ed9d8ae41",
    "papermill": {
     "duration": 0.018984,
     "end_time": "2024-11-15T20:49:58.897208",
     "exception": false,
     "start_time": "2024-11-15T20:49:58.878224",
     "status": "completed"
    },
    "tags": []
   },
   "source": [
    "The response often comes back in markdown format, which you can render directly in this notebook."
   ]
  },
  {
   "cell_type": "code",
   "execution_count": 6,
   "id": "7ba23bdf",
   "metadata": {
    "execution": {
     "iopub.execute_input": "2024-11-15T20:49:58.939428Z",
     "iopub.status.busy": "2024-11-15T20:49:58.938948Z",
     "iopub.status.idle": "2024-11-15T20:49:58.948814Z",
     "shell.execute_reply": "2024-11-15T20:49:58.947249Z"
    },
    "id": "c933e5e460a5",
    "papermill": {
     "duration": 0.035433,
     "end_time": "2024-11-15T20:49:58.952330",
     "exception": false,
     "start_time": "2024-11-15T20:49:58.916897",
     "status": "completed"
    },
    "tags": []
   },
   "outputs": [
    {
     "data": {
      "text/markdown": [
       "Imagine you have a super smart puppy.  You teach it tricks, like \"sit\" and \"fetch.\"  At first, it doesn't understand, but you show it again and again, giving it treats when it gets it right.  Slowly, the puppy learns!\n",
       "\n",
       "AI is kind of like that super smart puppy, but instead of treats, we give it lots and lots of information.  We teach it to recognize things like pictures of cats and dogs, or to understand what you're saying when you ask it a question.  The more information we give it, the smarter it gets at doing things we ask it to do.\n",
       "\n",
       "It doesn't really *think* like a person, it just follows instructions very, very well based on all the information it's learned.  It can do things like:\n",
       "\n",
       "* **Play games:**  Think chess or video games!\n",
       "* **Answer questions:**  Like asking it \"What's the capital of France?\"\n",
       "* **Recognize faces:**  Like on your phone when it unlocks with your face.\n",
       "* **Translate languages:**  So you can understand what people from other countries are saying.\n",
       "\n",
       "So, AI is basically a really smart computer program that learns from information and can do lots of cool things!\n"
      ],
      "text/plain": [
       "<IPython.core.display.Markdown object>"
      ]
     },
     "execution_count": 6,
     "metadata": {},
     "output_type": "execute_result"
    }
   ],
   "source": [
    "Markdown(response.text)"
   ]
  },
  {
   "cell_type": "markdown",
   "id": "6bba3a5f",
   "metadata": {
    "id": "byx0pT9ZMW2Q",
    "papermill": {
     "duration": 0.018368,
     "end_time": "2024-11-15T20:49:58.989449",
     "exception": false,
     "start_time": "2024-11-15T20:49:58.971081",
     "status": "completed"
    },
    "tags": []
   },
   "source": [
    "### Start a chat\n",
    "\n",
    "The previous example uses a single-turn, text-in/text-out structure, but you can also set up a multi-turn chat structure too."
   ]
  },
  {
   "cell_type": "code",
   "execution_count": 7,
   "id": "40aaa6e6",
   "metadata": {
    "execution": {
     "iopub.execute_input": "2024-11-15T20:49:59.032064Z",
     "iopub.status.busy": "2024-11-15T20:49:59.030578Z",
     "iopub.status.idle": "2024-11-15T20:50:01.114371Z",
     "shell.execute_reply": "2024-11-15T20:50:01.113068Z"
    },
    "id": "lV_S5ZL5MidD",
    "papermill": {
     "duration": 2.108748,
     "end_time": "2024-11-15T20:50:01.117228",
     "exception": false,
     "start_time": "2024-11-15T20:49:59.008480",
     "status": "completed"
    },
    "tags": []
   },
   "outputs": [
    {
     "name": "stdout",
     "output_type": "stream",
     "text": [
      "It's nice to meet you, Zlork!  How can I help you today?\n",
      "\n"
     ]
    }
   ],
   "source": [
    "chat = flash.start_chat(history=[])\n",
    "response = chat.send_message('Hello! My name is Zlork.')\n",
    "print(response.text)"
   ]
  },
  {
   "cell_type": "code",
   "execution_count": 8,
   "id": "93b83ef9",
   "metadata": {
    "execution": {
     "iopub.execute_input": "2024-11-15T20:50:01.157279Z",
     "iopub.status.busy": "2024-11-15T20:50:01.156828Z",
     "iopub.status.idle": "2024-11-15T20:50:28.347642Z",
     "shell.execute_reply": "2024-11-15T20:50:28.346489Z"
    },
    "id": "7b0372c3c64a",
    "papermill": {
     "duration": 27.214002,
     "end_time": "2024-11-15T20:50:28.350397",
     "exception": false,
     "start_time": "2024-11-15T20:50:01.136395",
     "status": "completed"
    },
    "tags": []
   },
   "outputs": [
    {
     "data": {
      "text/markdown": [
       "Many dinosaurs likely had feathers!  While we often picture them as scaly reptiles,  evidence shows that many, even large theropods like *Velociraptor* and even some early tyrannosaurs, sported feathers, ranging from simple filaments to complex flight feathers.  This discovery significantly changed our understanding of dinosaur evolution and their relationship to birds.\n"
      ],
      "text/plain": [
       "<IPython.core.display.Markdown object>"
      ]
     },
     "execution_count": 8,
     "metadata": {},
     "output_type": "execute_result"
    }
   ],
   "source": [
    "response = chat.send_message('Can you tell something interesting about dinosaurs?')\n",
    "Markdown(response.text)"
   ]
  },
  {
   "cell_type": "code",
   "execution_count": 9,
   "id": "12c42e70",
   "metadata": {
    "execution": {
     "iopub.execute_input": "2024-11-15T20:50:28.390220Z",
     "iopub.status.busy": "2024-11-15T20:50:28.389763Z",
     "iopub.status.idle": "2024-11-15T20:52:36.341139Z",
     "shell.execute_reply": "2024-11-15T20:52:36.340040Z"
    },
    "id": "d3f9591392a7",
    "papermill": {
     "duration": 127.994806,
     "end_time": "2024-11-15T20:52:36.364265",
     "exception": false,
     "start_time": "2024-11-15T20:50:28.369459",
     "status": "completed"
    },
    "tags": []
   },
   "outputs": [
    {
     "name": "stdout",
     "output_type": "stream",
     "text": [
      "Yes, your name is Zlork.\n",
      "\n"
     ]
    }
   ],
   "source": [
    "# While you have the `chat` object around, the conversation state\n",
    "# persists. Confirm that by asking if it knows my name.\n",
    "response = chat.send_message('Do you remember what my name is?')\n",
    "print(response.text)"
   ]
  },
  {
   "cell_type": "markdown",
   "id": "7b135bc0",
   "metadata": {
    "id": "2KAjpr1200sW",
    "papermill": {
     "duration": 0.01866,
     "end_time": "2024-11-15T20:52:36.402443",
     "exception": false,
     "start_time": "2024-11-15T20:52:36.383783",
     "status": "completed"
    },
    "tags": []
   },
   "source": [
    "### Choose a model\n",
    "\n",
    "The Gemini API provides access to a number of models from the Gemini model family. Read about the available models and their capabilities on the [model overview page](https://ai.google.dev/gemini-api/docs/models/gemini).\n",
    "\n",
    "In this step you'll use the API to list all of the available models."
   ]
  },
  {
   "cell_type": "code",
   "execution_count": 10,
   "id": "566eabe5",
   "metadata": {
    "execution": {
     "iopub.execute_input": "2024-11-15T20:52:36.442182Z",
     "iopub.status.busy": "2024-11-15T20:52:36.441726Z",
     "iopub.status.idle": "2024-11-15T20:52:36.604298Z",
     "shell.execute_reply": "2024-11-15T20:52:36.603052Z"
    },
    "id": "uUUZa2uq2jDm",
    "papermill": {
     "duration": 0.186018,
     "end_time": "2024-11-15T20:52:36.607275",
     "exception": false,
     "start_time": "2024-11-15T20:52:36.421257",
     "status": "completed"
    },
    "tags": []
   },
   "outputs": [
    {
     "name": "stdout",
     "output_type": "stream",
     "text": [
      "models/chat-bison-001\n",
      "models/text-bison-001\n",
      "models/embedding-gecko-001\n",
      "models/gemini-1.0-pro-latest\n",
      "models/gemini-1.0-pro\n",
      "models/gemini-pro\n",
      "models/gemini-1.0-pro-001\n",
      "models/gemini-1.0-pro-vision-latest\n",
      "models/gemini-pro-vision\n",
      "models/gemini-1.5-pro-latest\n",
      "models/gemini-1.5-pro-001\n",
      "models/gemini-1.5-pro-002\n",
      "models/gemini-1.5-pro\n",
      "models/gemini-1.5-pro-exp-0801\n",
      "models/gemini-1.5-pro-exp-0827\n",
      "models/gemini-1.5-flash-latest\n",
      "models/gemini-1.5-flash-001\n",
      "models/gemini-1.5-flash-001-tuning\n",
      "models/gemini-1.5-flash\n",
      "models/gemini-1.5-flash-exp-0827\n",
      "models/gemini-1.5-flash-002\n",
      "models/gemini-1.5-flash-8b\n",
      "models/gemini-1.5-flash-8b-001\n",
      "models/gemini-1.5-flash-8b-latest\n",
      "models/gemini-1.5-flash-8b-exp-0827\n",
      "models/gemini-1.5-flash-8b-exp-0924\n",
      "models/gemini-exp-1114\n",
      "models/embedding-001\n",
      "models/text-embedding-004\n",
      "models/aqa\n"
     ]
    }
   ],
   "source": [
    "for model in genai.list_models():\n",
    "  print(model.name)"
   ]
  },
  {
   "cell_type": "markdown",
   "id": "ce7a29ae",
   "metadata": {
    "id": "rN49kSI54R1v",
    "papermill": {
     "duration": 0.018707,
     "end_time": "2024-11-15T20:52:36.645043",
     "exception": false,
     "start_time": "2024-11-15T20:52:36.626336",
     "status": "completed"
    },
    "tags": []
   },
   "source": [
    "The [`models.list`](https://ai.google.dev/api/models#method:-models.list) response also returns additional information about the model's capabilities, like the token limits and supported parameters."
   ]
  },
  {
   "cell_type": "code",
   "execution_count": 11,
   "id": "c7b584e7",
   "metadata": {
    "execution": {
     "iopub.execute_input": "2024-11-15T20:52:36.686265Z",
     "iopub.status.busy": "2024-11-15T20:52:36.685852Z",
     "iopub.status.idle": "2024-11-15T20:52:36.833471Z",
     "shell.execute_reply": "2024-11-15T20:52:36.831859Z"
    },
    "id": "k7JJ1K6j4Rl8",
    "papermill": {
     "duration": 0.172344,
     "end_time": "2024-11-15T20:52:36.836401",
     "exception": false,
     "start_time": "2024-11-15T20:52:36.664057",
     "status": "completed"
    },
    "tags": []
   },
   "outputs": [
    {
     "name": "stdout",
     "output_type": "stream",
     "text": [
      "Model(name='models/gemini-1.5-flash',\n",
      "      base_model_id='',\n",
      "      version='001',\n",
      "      display_name='Gemini 1.5 Flash',\n",
      "      description='Fast and versatile multimodal model for scaling across diverse tasks',\n",
      "      input_token_limit=1000000,\n",
      "      output_token_limit=8192,\n",
      "      supported_generation_methods=['generateContent', 'countTokens'],\n",
      "      temperature=1.0,\n",
      "      max_temperature=2.0,\n",
      "      top_p=0.95,\n",
      "      top_k=40)\n"
     ]
    }
   ],
   "source": [
    "for model in genai.list_models():\n",
    "  if model.name == 'models/gemini-1.5-flash':\n",
    "    print(model)\n",
    "    break"
   ]
  },
  {
   "cell_type": "markdown",
   "id": "188d55ec",
   "metadata": {
    "id": "5rU_UBlZdooM",
    "papermill": {
     "duration": 0.019435,
     "end_time": "2024-11-15T20:52:36.875260",
     "exception": false,
     "start_time": "2024-11-15T20:52:36.855825",
     "status": "completed"
    },
    "tags": []
   },
   "source": [
    "## Explore generation parameters\n",
    "\n"
   ]
  },
  {
   "cell_type": "markdown",
   "id": "0b919cb8",
   "metadata": {
    "id": "G7NfEizeipbW",
    "papermill": {
     "duration": 0.018913,
     "end_time": "2024-11-15T20:52:36.913878",
     "exception": false,
     "start_time": "2024-11-15T20:52:36.894965",
     "status": "completed"
    },
    "tags": []
   },
   "source": [
    "### Output length\n",
    "\n",
    "When generating text with an LLM, the output length affects cost and performance. Generating more tokens increases computation, leading to higher energy consumption, latency, and cost.\n",
    "\n",
    "To stop the model from generating tokens past a limit, you can specify the `max_output_length` parameter when using the Gemini API. Specifying this parameter does not influence the generation of the output tokens, so the output will not become more stylistically or textually succinct, but it will stop generating tokens once the specified length is reached. Prompt engineering may be required to generate a more complete output for your given limit."
   ]
  },
  {
   "cell_type": "code",
   "execution_count": 12,
   "id": "8af8093b",
   "metadata": {
    "execution": {
     "iopub.execute_input": "2024-11-15T20:52:36.955521Z",
     "iopub.status.busy": "2024-11-15T20:52:36.955071Z",
     "iopub.status.idle": "2024-11-15T20:52:54.285701Z",
     "shell.execute_reply": "2024-11-15T20:52:54.284292Z"
    },
    "id": "qVf23JsIi9ma",
    "papermill": {
     "duration": 17.355114,
     "end_time": "2024-11-15T20:52:54.288737",
     "exception": false,
     "start_time": "2024-11-15T20:52:36.933623",
     "status": "completed"
    },
    "tags": []
   },
   "outputs": [
    {
     "name": "stdout",
     "output_type": "stream",
     "text": [
      "Olives, far from being a mere culinary curiosity, hold significant importance in modern society.  Their economic impact is substantial, supporting livelihoods across the Mediterranean and beyond through cultivation, processing, and trade. Olive oil, a cornerstone of the Mediterranean diet, is prized for its health benefits, contributing to cardiovascular well-being and reducing the risk of chronic diseases.  This health association fuels a global market demanding high-quality olive oil, driving innovation in production and processing.  Beyond nutrition, olives feature prominently in cultural traditions, representing a symbol of peace and prosperity in many societies.  From culinary uses in diverse cuisines to cosmetic applications leveraging their rich properties, the olive's influence extends far beyond its humble origins, demonstrating its enduring value in our modern world.\n",
      "\n"
     ]
    }
   ],
   "source": [
    "short_model = genai.GenerativeModel(\n",
    "    'gemini-1.5-flash',\n",
    "    generation_config=genai.GenerationConfig(max_output_tokens=200))\n",
    "\n",
    "response = short_model.generate_content('Write an essay on the importance of olives in modern society that is 200 words or less.')\n",
    "print(response.text)"
   ]
  },
  {
   "cell_type": "code",
   "execution_count": 13,
   "id": "ba63a71e",
   "metadata": {
    "execution": {
     "iopub.execute_input": "2024-11-15T20:52:54.329990Z",
     "iopub.status.busy": "2024-11-15T20:52:54.328842Z",
     "iopub.status.idle": "2024-11-15T20:53:26.226653Z",
     "shell.execute_reply": "2024-11-15T20:53:26.225284Z"
    },
    "id": "W-3kR2F5kdMR",
    "papermill": {
     "duration": 31.940591,
     "end_time": "2024-11-15T20:53:26.248774",
     "exception": false,
     "start_time": "2024-11-15T20:52:54.308183",
     "status": "completed"
    },
    "tags": []
   },
   "outputs": [
    {
     "name": "stdout",
     "output_type": "stream",
     "text": [
      "From ancient groves, a bounty spills,\n",
      "The olive's gift, the palate thrills.\n",
      "In oil we find a healthy grace,\n",
      "A vibrant taste in every place.\n",
      "\n",
      "From salad bowls to crusty bread,\n",
      "Its subtle charm, so widely spread.\n",
      "A symbol strong, of sun-drenched land,\n",
      "A staple food, throughout the land.\n",
      "\n"
     ]
    }
   ],
   "source": [
    "response = short_model.generate_content('Write a short poem on the importance of olives in modern society.')\n",
    "print(response.text)"
   ]
  },
  {
   "cell_type": "markdown",
   "id": "8f514e7f",
   "metadata": {
    "id": "3ZhDSLB6lqqB",
    "papermill": {
     "duration": 0.019198,
     "end_time": "2024-11-15T20:53:26.287460",
     "exception": false,
     "start_time": "2024-11-15T20:53:26.268262",
     "status": "completed"
    },
    "tags": []
   },
   "source": [
    "Explore with your own prompts. Try a prompt with a restrictive output limit and then adjust the prompt to work within that limit."
   ]
  },
  {
   "cell_type": "markdown",
   "id": "bc1cfdbe",
   "metadata": {
    "id": "alx-WaAvir_9",
    "papermill": {
     "duration": 0.019239,
     "end_time": "2024-11-15T20:53:26.326194",
     "exception": false,
     "start_time": "2024-11-15T20:53:26.306955",
     "status": "completed"
    },
    "tags": []
   },
   "source": [
    "### Temperature\n",
    "\n",
    "Temperature controls the degree of randomness in token selection. Higher temperatures result in a higher number of candidate tokens from which the next output token is selected, and can produce more diverse results, while lower temperatures have the opposite effect, such that a temperature of 0 results in greedy decoding, selecting the most probable token at each step.\n",
    "\n",
    "Temperature doesn't provide any guarantees of randomness, but it can be used to \"nudge\" the output somewhat."
   ]
  },
  {
   "cell_type": "code",
   "execution_count": 14,
   "id": "93b9bfc1",
   "metadata": {
    "execution": {
     "iopub.execute_input": "2024-11-15T20:53:26.367199Z",
     "iopub.status.busy": "2024-11-15T20:53:26.366768Z",
     "iopub.status.idle": "2024-11-15T20:59:22.902440Z",
     "shell.execute_reply": "2024-11-15T20:59:22.901300Z"
    },
    "id": "SHraGMzqnZqt",
    "papermill": {
     "duration": 356.560286,
     "end_time": "2024-11-15T20:59:22.905844",
     "exception": false,
     "start_time": "2024-11-15T20:53:26.345558",
     "status": "completed"
    },
    "tags": []
   },
   "outputs": [
    {
     "name": "stdout",
     "output_type": "stream",
     "text": [
      "Marigold\n",
      " -------------------------\n",
      "Marigold\n",
      " -------------------------\n",
      "Maroon\n",
      " -------------------------\n"
     ]
    }
   ],
   "source": [
    "import time\n",
    "from google.api_core import retry\n",
    "\n",
    "retry_policy = {\n",
    "    \"retry\": retry.Retry(\n",
    "        predicate=retry.if_transient_error,\n",
    "        initial=10,      # Number of seconds to delay first retry (default 1.0)\n",
    "        multiplier=1.2,  # Factor to increase the delay each retry (default 2.0)\n",
    "        timeout=300)     # Total retry duration in seconds (default 120.0)\n",
    "}\n",
    "\n",
    "high_temp_model = genai.GenerativeModel(\n",
    "    'gemini-1.5-flash',\n",
    "    generation_config=genai.GenerationConfig(temperature=2.0))\n",
    "\n",
    "for _ in range(3):\n",
    "  time.sleep(30)      \n",
    "  response = high_temp_model.generate_content('Pick a random colour... (answer in a single word)', request_options=retry_policy)\n",
    "  time.sleep(30)\n",
    "  if response.parts:\n",
    "    print(response.text, '-' * 25)\n",
    "\n",
    "  # Slow down a bit so we don't get Resource Exhausted errors.\n",
    "  time.sleep(30)"
   ]
  },
  {
   "cell_type": "markdown",
   "id": "a4e202a1",
   "metadata": {
    "id": "z3J4pCTuof7e",
    "papermill": {
     "duration": 0.019633,
     "end_time": "2024-11-15T20:59:22.946019",
     "exception": false,
     "start_time": "2024-11-15T20:59:22.926386",
     "status": "completed"
    },
    "tags": []
   },
   "source": [
    "Now try the same prompt with temperature set to zero. Note that the output is not completely deterministic, as other parameters affect token selection, but the results will tend to be more stable."
   ]
  },
  {
   "cell_type": "code",
   "execution_count": 15,
   "id": "457f75ac",
   "metadata": {
    "execution": {
     "iopub.execute_input": "2024-11-15T20:59:22.987986Z",
     "iopub.status.busy": "2024-11-15T20:59:22.987508Z",
     "iopub.status.idle": "2024-11-15T21:10:04.853096Z",
     "shell.execute_reply": "2024-11-15T21:10:04.851850Z"
    },
    "id": "clymkWv-PfUZ",
    "papermill": {
     "duration": 641.890114,
     "end_time": "2024-11-15T21:10:04.855940",
     "exception": false,
     "start_time": "2024-11-15T20:59:22.965826",
     "status": "completed"
    },
    "tags": []
   },
   "outputs": [
    {
     "name": "stdout",
     "output_type": "stream",
     "text": [
      "Purple\n",
      " -------------------------\n",
      "Purple\n",
      " -------------------------\n",
      "Purple\n",
      " -------------------------\n",
      "Purple\n",
      " -------------------------\n"
     ]
    }
   ],
   "source": [
    "low_temp_model = genai.GenerativeModel(\n",
    "    'gemini-1.5-flash',\n",
    "    generation_config=genai.GenerationConfig(temperature=0.0))\n",
    "\n",
    "for _ in range(4):\n",
    "  response = low_temp_model.generate_content('Pick a random colour... (answer in a single word)', request_options=retry_policy)\n",
    "  if response.parts:\n",
    "    print(response.text, '-' * 25)\n",
    "\n",
    "  time.sleep(20)"
   ]
  },
  {
   "cell_type": "markdown",
   "id": "9eaa95ac",
   "metadata": {
    "id": "St5nt3vzitsZ",
    "papermill": {
     "duration": 0.019771,
     "end_time": "2024-11-15T21:10:04.895875",
     "exception": false,
     "start_time": "2024-11-15T21:10:04.876104",
     "status": "completed"
    },
    "tags": []
   },
   "source": [
    "### Top-K and top-P\n",
    "\n",
    "Like temperature, top-K and top-P parameters are also used to control the diversity of the model's output.\n",
    "\n",
    "Top-K is a positive integer that defines the number of most probable tokens from which to select the output token. A top-K of 1 selects a single token, performing greedy decoding.\n",
    "\n",
    "Top-P defines the probability threshold that, once cumulatively exceeded, tokens stop being selected as candidates. A top-P of 0 is typically equivalent to greedy decoding, and a top-P of 1 typically selects every token in the model's vocabulary.\n",
    "\n",
    "When both are supplied, the Gemini API will filter top-K tokens first, then top-P and then finally sample from the candidate tokens using the supplied temperature.\n",
    "\n",
    "Run this example a number of times, change the settings and observe the change in output."
   ]
  },
  {
   "cell_type": "code",
   "execution_count": 16,
   "id": "430e3b18",
   "metadata": {
    "execution": {
     "iopub.execute_input": "2024-11-15T21:10:04.938466Z",
     "iopub.status.busy": "2024-11-15T21:10:04.938012Z",
     "iopub.status.idle": "2024-11-15T21:10:12.345854Z",
     "shell.execute_reply": "2024-11-15T21:10:12.344644Z"
    },
    "id": "lPlzpEavUV8F",
    "papermill": {
     "duration": 7.432444,
     "end_time": "2024-11-15T21:10:12.348367",
     "exception": false,
     "start_time": "2024-11-15T21:10:04.915923",
     "status": "completed"
    },
    "tags": []
   },
   "outputs": [
    {
     "name": "stdout",
     "output_type": "stream",
     "text": [
      "Bartholomew, a ginger tabby with eyes like polished amber, was a cat of routine. Every morning, he woke precisely at 6:30, stretched, and demanded breakfast. Every afternoon, he took a nap in the sunbeam on the living room rug. And every evening, he sat on the windowsill, watching the world go by. But Bartholomew was bored.\n",
      "\n",
      "One day, a particularly large, fluffy moth drifted in through the open window. Bartholomew, normally uninterested in such things, was captivated. The moth fluttered around the room, its wings a delicate symphony of white and brown. Bartholomew, on a whim, decided to follow.\n",
      "\n",
      "He chased the moth out the window, down the street, and into the bustling city park. The world was a whirlwind of smells and sounds. Birds chirped in the trees, squirrels scampered, and children laughed. Bartholomew, usually a creature of the indoors, was mesmerized.\n",
      "\n",
      "He followed the moth through the park, dodging pigeons and leaping over benches. Finally, the moth landed on a vibrant flower bed. Bartholomew, exhausted but exhilarated, watched as the moth flitted from bloom to bloom.\n",
      "\n",
      "Suddenly, a loud, booming voice interrupted the peaceful scene. \"Hey, you furry little fiend! Get out of my garden!\" Bartholomew looked up to see a grumpy old man with a rake in his hand. He let out a hiss and scampered away.\n",
      "\n",
      "His adventure interrupted, Bartholomew found himself in a strange new neighborhood. He sniffed around, confused and alone. He missed his cozy windowsill, the smell of tuna, and the gentle stroking of his human’s hand.\n",
      "\n",
      "But then, a soft meow reached his ears. A black cat, sleek and elegant, sat perched on a fence. She looked at Bartholomew with knowing eyes. \"Lost, are you?\" she purred. \"Follow me.\"\n",
      "\n",
      "The black cat led Bartholomew on a journey through alleyways and hidden gardens, sharing stories of the city and its secrets.  He learned about the midnight bakery with its delicious smells, the friendly stray dogs, and the hidden cat colony under the old oak tree.\n",
      "\n",
      "By the time Bartholomew found his way back home, he was a changed cat. He still enjoyed his routines, but now he also had stories to tell, memories to savor, and a newfound appreciation for the world outside his window. He may have been a cat of routine, but he was also a cat of adventure. And that, he knew, was something special. \n",
      "\n"
     ]
    }
   ],
   "source": [
    "model = genai.GenerativeModel(\n",
    "    'gemini-1.5-flash-001',\n",
    "    generation_config=genai.GenerationConfig(\n",
    "        # These are the default values for gemini-1.5-flash-001.\n",
    "        temperature=1.0,\n",
    "        top_k=64,\n",
    "        top_p=0.95,\n",
    "    ))\n",
    "\n",
    "story_prompt = \"You are a creative writer. Write a short story about a cat who goes on an adventure.\"\n",
    "response = model.generate_content(story_prompt)\n",
    "print(response.text)"
   ]
  },
  {
   "cell_type": "markdown",
   "id": "4b4d5f26",
   "metadata": {
    "id": "rMrYs1koY6DX",
    "papermill": {
     "duration": 0.020114,
     "end_time": "2024-11-15T21:10:12.389501",
     "exception": false,
     "start_time": "2024-11-15T21:10:12.369387",
     "status": "completed"
    },
    "tags": []
   },
   "source": [
    "## Prompting\n",
    "\n",
    "This section contains some prompts from the chapter for you to try out directly in the API. Try changing the text here to see how each prompt performs with different instructions, more examples, or any other changes you can think of."
   ]
  },
  {
   "cell_type": "markdown",
   "id": "a48412ea",
   "metadata": {
    "id": "hhj_tQidZJP7",
    "papermill": {
     "duration": 0.022106,
     "end_time": "2024-11-15T21:10:12.432382",
     "exception": false,
     "start_time": "2024-11-15T21:10:12.410276",
     "status": "completed"
    },
    "tags": []
   },
   "source": [
    "### Zero-shot\n",
    "\n",
    "Zero-shot prompts are prompts that describe the request for the model directly.\n",
    "\n",
    "<table align=left>\n",
    "  <td>\n",
    "    <a target=\"_blank\" href=\"https://aistudio.google.com/prompts/1gzKKgDHwkAvexG5Up0LMtl1-6jKMKe4g\"><img src=\"https://ai.google.dev/site-assets/images/marketing/home/icon-ais.png\" style=\"height: 24px\" height=24/> Open in AI Studio</a>\n",
    "  </td>\n",
    "</table>"
   ]
  },
  {
   "cell_type": "code",
   "execution_count": 17,
   "id": "7c7f89d8",
   "metadata": {
    "execution": {
     "iopub.execute_input": "2024-11-15T21:10:12.477358Z",
     "iopub.status.busy": "2024-11-15T21:10:12.476903Z",
     "iopub.status.idle": "2024-11-15T21:10:17.605079Z",
     "shell.execute_reply": "2024-11-15T21:10:17.603518Z"
    },
    "id": "1_t-cwnDZzbH",
    "papermill": {
     "duration": 5.154312,
     "end_time": "2024-11-15T21:10:17.608434",
     "exception": false,
     "start_time": "2024-11-15T21:10:12.454122",
     "status": "completed"
    },
    "tags": []
   },
   "outputs": [
    {
     "name": "stdout",
     "output_type": "stream",
     "text": [
      "Sentiment: **POSITIVE**\n"
     ]
    }
   ],
   "source": [
    "model = genai.GenerativeModel(\n",
    "    'gemini-1.5-flash-001',\n",
    "    generation_config=genai.GenerationConfig(\n",
    "        temperature=0.1,\n",
    "        top_p=1,\n",
    "        max_output_tokens=5,\n",
    "    ))\n",
    "\n",
    "zero_shot_prompt = \"\"\"Classify movie reviews as POSITIVE, NEUTRAL or NEGATIVE.\n",
    "Review: \"Her\" is a disturbing study revealing the direction\n",
    "humanity is headed if AI is allowed to keep evolving,\n",
    "unchecked. I wish there were more movies like this masterpiece.\n",
    "Sentiment: \"\"\"\n",
    "\n",
    "response = model.generate_content(zero_shot_prompt)\n",
    "print(response.text)"
   ]
  },
  {
   "cell_type": "markdown",
   "id": "5d3bc2d7",
   "metadata": {
    "id": "3b5568bdeb11",
    "papermill": {
     "duration": 0.020605,
     "end_time": "2024-11-15T21:10:17.655580",
     "exception": false,
     "start_time": "2024-11-15T21:10:17.634975",
     "status": "completed"
    },
    "tags": []
   },
   "source": [
    "#### Enum mode\n",
    "\n",
    "The models are trained to generate text, and can sometimes produce more text than you may wish for. In the preceding example, the model will output the label, sometimes it can include a preceding \"Sentiment\" label, and without an output token limit, it may also add explanatory text afterwards.\n",
    "\n",
    "The Gemini API has an [Enum mode](https://github.com/google-gemini/cookbook/blob/main/quickstarts/Enum.ipynb) feature that allows you to constrain the output to a fixed set of values."
   ]
  },
  {
   "cell_type": "code",
   "execution_count": 18,
   "id": "36675df6",
   "metadata": {
    "execution": {
     "iopub.execute_input": "2024-11-15T21:10:17.698607Z",
     "iopub.status.busy": "2024-11-15T21:10:17.698024Z",
     "iopub.status.idle": "2024-11-15T21:10:21.860936Z",
     "shell.execute_reply": "2024-11-15T21:10:21.859638Z"
    },
    "id": "ad118a56c598",
    "papermill": {
     "duration": 4.187794,
     "end_time": "2024-11-15T21:10:21.863834",
     "exception": false,
     "start_time": "2024-11-15T21:10:17.676040",
     "status": "completed"
    },
    "tags": []
   },
   "outputs": [
    {
     "name": "stdout",
     "output_type": "stream",
     "text": [
      "positive\n"
     ]
    }
   ],
   "source": [
    "import enum\n",
    "\n",
    "class Sentiment(enum.Enum):\n",
    "    POSITIVE = \"positive\"\n",
    "    NEUTRAL = \"neutral\"\n",
    "    NEGATIVE = \"negative\"\n",
    "\n",
    "\n",
    "model = genai.GenerativeModel(\n",
    "    'gemini-1.5-flash-001',\n",
    "    generation_config=genai.GenerationConfig(\n",
    "        response_mime_type=\"text/x.enum\",\n",
    "        response_schema=Sentiment\n",
    "    ))\n",
    "\n",
    "response = model.generate_content(zero_shot_prompt)\n",
    "print(response.text)"
   ]
  },
  {
   "cell_type": "markdown",
   "id": "31b027d6",
   "metadata": {
    "id": "0udiSwNbv45W",
    "papermill": {
     "duration": 0.020593,
     "end_time": "2024-11-15T21:10:21.905390",
     "exception": false,
     "start_time": "2024-11-15T21:10:21.884797",
     "status": "completed"
    },
    "tags": []
   },
   "source": [
    "### One-shot and few-shot\n",
    "\n",
    "Providing an example of the expected response is known as a \"one-shot\" prompt. When you provide multiple examples, it is a \"few-shot\" prompt.\n",
    "\n",
    "<table align=left>\n",
    "  <td>\n",
    "    <a target=\"_blank\" href=\"https://aistudio.google.com/prompts/1jjWkjUSoMXmLvMJ7IzADr_GxHPJVV2bg\"><img src=\"https://ai.google.dev/site-assets/images/marketing/home/icon-ais.png\" style=\"height: 24px\" height=24/> Open in AI Studio</a>\n",
    "  </td>\n",
    "</table>\n"
   ]
  },
  {
   "cell_type": "code",
   "execution_count": 19,
   "id": "55666573",
   "metadata": {
    "execution": {
     "iopub.execute_input": "2024-11-15T21:10:21.948519Z",
     "iopub.status.busy": "2024-11-15T21:10:21.948072Z",
     "iopub.status.idle": "2024-11-15T21:10:46.888805Z",
     "shell.execute_reply": "2024-11-15T21:10:46.887680Z"
    },
    "id": "hd4mVUukwOKZ",
    "papermill": {
     "duration": 24.965173,
     "end_time": "2024-11-15T21:10:46.891460",
     "exception": false,
     "start_time": "2024-11-15T21:10:21.926287",
     "status": "completed"
    },
    "tags": []
   },
   "outputs": [
    {
     "name": "stdout",
     "output_type": "stream",
     "text": [
      "```json\n",
      "{\n",
      "  \"size\": \"large\",\n",
      "  \"type\": \"normal\",\n",
      "  \"ingredients\": [\"cheese\", \"pineapple\"]\n",
      "}\n",
      "```\n",
      "\n"
     ]
    }
   ],
   "source": [
    "model = genai.GenerativeModel(\n",
    "    'gemini-1.5-flash-latest',\n",
    "    generation_config=genai.GenerationConfig(\n",
    "        temperature=0.1,\n",
    "        top_p=1,\n",
    "        max_output_tokens=250,\n",
    "    ))\n",
    "\n",
    "few_shot_prompt = \"\"\"Parse a customer's pizza order into valid JSON:\n",
    "\n",
    "EXAMPLE:\n",
    "I want a small pizza with cheese, tomato sauce, and pepperoni.\n",
    "JSON Response:\n",
    "```\n",
    "{\n",
    "\"size\": \"small\",\n",
    "\"type\": \"normal\",\n",
    "\"ingredients\": [\"cheese\", \"tomato sauce\", \"peperoni\"]\n",
    "}\n",
    "```\n",
    "\n",
    "EXAMPLE:\n",
    "Can I get a large pizza with tomato sauce, basil and mozzarella\n",
    "JSON Response:\n",
    "```\n",
    "{\n",
    "\"size\": \"large\",\n",
    "\"type\": \"normal\",\n",
    "\"ingredients\": [\"tomato sauce\", \"basil\", \"mozzarella\"]\n",
    "}\n",
    "\n",
    "ORDER:\n",
    "\"\"\"\n",
    "\n",
    "customer_order = \"Give me a large with cheese & pineapple\"\n",
    "\n",
    "\n",
    "response = model.generate_content([few_shot_prompt, customer_order])\n",
    "print(response.text)"
   ]
  },
  {
   "cell_type": "markdown",
   "id": "e2b86f6b",
   "metadata": {
    "id": "021293096f08",
    "papermill": {
     "duration": 0.020704,
     "end_time": "2024-11-15T21:10:46.932865",
     "exception": false,
     "start_time": "2024-11-15T21:10:46.912161",
     "status": "completed"
    },
    "tags": []
   },
   "source": [
    "#### JSON mode\n",
    "\n",
    "To provide control over the schema, and to ensure that you only receive JSON (with no other text or markdown), you can use the Gemini API's [JSON mode](https://github.com/google-gemini/cookbook/blob/main/quickstarts/JSON_mode.ipynb). This forces the model to constrain decoding, such that token selection is guided by the supplied schema."
   ]
  },
  {
   "cell_type": "code",
   "execution_count": 20,
   "id": "466ad855",
   "metadata": {
    "execution": {
     "iopub.execute_input": "2024-11-15T21:10:46.976341Z",
     "iopub.status.busy": "2024-11-15T21:10:46.975905Z",
     "iopub.status.idle": "2024-11-15T21:10:59.854762Z",
     "shell.execute_reply": "2024-11-15T21:10:59.853568Z"
    },
    "id": "50fbf0260912",
    "papermill": {
     "duration": 12.903588,
     "end_time": "2024-11-15T21:10:59.857389",
     "exception": false,
     "start_time": "2024-11-15T21:10:46.953801",
     "status": "completed"
    },
    "tags": []
   },
   "outputs": [
    {
     "name": "stdout",
     "output_type": "stream",
     "text": [
      "{\"ingredients\": [\"apple\", \"chocolate\"], \"size\": \"large\", \"type\": \"dessert pizza\"}\n",
      "\n"
     ]
    }
   ],
   "source": [
    "import typing_extensions as typing\n",
    "\n",
    "class PizzaOrder(typing.TypedDict):\n",
    "    size: str\n",
    "    ingredients: list[str]\n",
    "    type: str\n",
    "\n",
    "\n",
    "model = genai.GenerativeModel(\n",
    "    'gemini-1.5-flash-latest',\n",
    "    generation_config=genai.GenerationConfig(\n",
    "        temperature=0.1,\n",
    "        response_mime_type=\"application/json\",\n",
    "        response_schema=PizzaOrder,\n",
    "    ))\n",
    "\n",
    "response = model.generate_content(\"Can I have a large dessert pizza with apple and chocolate\")\n",
    "print(response.text)"
   ]
  },
  {
   "cell_type": "markdown",
   "id": "2df03609",
   "metadata": {
    "id": "4a93e338e57c",
    "papermill": {
     "duration": 0.020939,
     "end_time": "2024-11-15T21:10:59.899123",
     "exception": false,
     "start_time": "2024-11-15T21:10:59.878184",
     "status": "completed"
    },
    "tags": []
   },
   "source": [
    "### Chain of Thought (CoT)\n",
    "\n",
    "Direct prompting on LLMs can return answers quickly and (in terms of output token usage) efficiently, but they can be prone to hallucination. The answer may \"look\" correct (in terms of language and syntax) but is incorrect in terms of factuality and reasoning.\n",
    "\n",
    "Chain-of-Thought prompting is a technique where you instruct the model to output intermediate reasoning steps, and it typically gets better results, especially when combined with few-shot examples. It is worth noting that this technique doesn't completely eliminate hallucinations, and that it tends to cost more to run, due to the increased token count.\n",
    "\n",
    "As models like the Gemini family are trained to be \"chatty\" and provide reasoning steps, you can ask the model to be more direct in the prompt."
   ]
  },
  {
   "cell_type": "code",
   "execution_count": 21,
   "id": "4322c4b3",
   "metadata": {
    "execution": {
     "iopub.execute_input": "2024-11-15T21:10:59.944377Z",
     "iopub.status.busy": "2024-11-15T21:10:59.943516Z",
     "iopub.status.idle": "2024-11-15T21:12:49.120950Z",
     "shell.execute_reply": "2024-11-15T21:12:49.119627Z"
    },
    "id": "5715555db1c1",
    "papermill": {
     "duration": 109.222775,
     "end_time": "2024-11-15T21:12:49.143993",
     "exception": false,
     "start_time": "2024-11-15T21:10:59.921218",
     "status": "completed"
    },
    "tags": []
   },
   "outputs": [
    {
     "name": "stdout",
     "output_type": "stream",
     "text": [
      "47\n",
      "\n"
     ]
    }
   ],
   "source": [
    "prompt = \"\"\"When I was 4 years old, my partner was 3 times my age. Now, I\n",
    "am 20 years old. How old is my partner? Return the answer immediately.\"\"\"\n",
    "\n",
    "model = genai.GenerativeModel('gemini-1.5-flash-latest')\n",
    "response = model.generate_content(prompt)\n",
    "\n",
    "print(response.text)"
   ]
  },
  {
   "cell_type": "markdown",
   "id": "0d01fef9",
   "metadata": {
    "id": "e12b19677bfd",
    "papermill": {
     "duration": 0.020331,
     "end_time": "2024-11-15T21:12:49.185089",
     "exception": false,
     "start_time": "2024-11-15T21:12:49.164758",
     "status": "completed"
    },
    "tags": []
   },
   "source": [
    "Now try the same approach, but indicate to the model that it should \"think step by step\"."
   ]
  },
  {
   "cell_type": "code",
   "execution_count": 22,
   "id": "ca014944",
   "metadata": {
    "execution": {
     "iopub.execute_input": "2024-11-15T21:12:49.228129Z",
     "iopub.status.busy": "2024-11-15T21:12:49.227690Z",
     "iopub.status.idle": "2024-11-15T21:13:05.590793Z",
     "shell.execute_reply": "2024-11-15T21:13:05.589687Z"
    },
    "id": "ffd7536a481f",
    "papermill": {
     "duration": 16.387677,
     "end_time": "2024-11-15T21:13:05.593440",
     "exception": false,
     "start_time": "2024-11-15T21:12:49.205763",
     "status": "completed"
    },
    "tags": []
   },
   "outputs": [
    {
     "name": "stdout",
     "output_type": "stream",
     "text": [
      "Step 1: Find the partner's age when you were 4.\n",
      "\n",
      "* When you were 4, your partner was 3 times your age, so they were 4 * 3 = 12 years old.\n",
      "\n",
      "Step 2: Find the age difference between you and your partner.\n",
      "\n",
      "* The age difference is 12 - 4 = 8 years.\n",
      "\n",
      "Step 3: Determine your partner's current age.\n",
      "\n",
      "* You are now 20 years old.\n",
      "* Since the age difference remains constant, your partner is currently 20 + 8 = 28 years old.\n",
      "\n",
      "Therefore, your partner is now $\\boxed{28}$ years old.\n",
      "\n"
     ]
    }
   ],
   "source": [
    "prompt = \"\"\"When I was 4 years old, my partner was 3 times my age. Now,\n",
    "I am 20 years old. How old is my partner? Let's think step by step.\"\"\"\n",
    "\n",
    "response = model.generate_content(prompt)\n",
    "print(response.text)"
   ]
  },
  {
   "cell_type": "markdown",
   "id": "ffad6510",
   "metadata": {
    "id": "oiLgBQJj0V53",
    "papermill": {
     "duration": 0.023261,
     "end_time": "2024-11-15T21:13:05.637780",
     "exception": false,
     "start_time": "2024-11-15T21:13:05.614519",
     "status": "completed"
    },
    "tags": []
   },
   "source": [
    "### ReAct: Reason and act\n",
    "\n",
    "In this example you will run a ReAct prompt directly in the Gemini API and perform the searching steps yourself. As this prompt follows a well-defined structure, there are frameworks available that wrap the prompt into easier-to-use APIs that make tool calls automatically, such as the LangChain example from the chapter.\n",
    "\n",
    "To try this out with the Wikipedia search engine, check out the [Searching Wikipedia with ReAct](https://github.com/google-gemini/cookbook/blob/main/examples/Search_Wikipedia_using_ReAct.ipynb) cookbook example.\n",
    "\n",
    "\n",
    "> Note: The prompt and in-context examples used here are from [https://github.com/ysymyth/ReAct](https://github.com/ysymyth/ReAct) which is published under a [MIT license](https://opensource.org/licenses/MIT), Copyright (c) 2023 Shunyu Yao.\n",
    "\n",
    "<table align=left>\n",
    "  <td>\n",
    "    <a target=\"_blank\" href=\"https://aistudio.google.com/prompts/18oo63Lwosd-bQ6Ay51uGogB3Wk3H8XMO\"><img src=\"https://ai.google.dev/site-assets/images/marketing/home/icon-ais.png\" style=\"height: 24px\" height=24/> Open in AI Studio</a>\n",
    "  </td>\n",
    "</table>\n"
   ]
  },
  {
   "cell_type": "code",
   "execution_count": 23,
   "id": "9ee93362",
   "metadata": {
    "execution": {
     "iopub.execute_input": "2024-11-15T21:13:05.682432Z",
     "iopub.status.busy": "2024-11-15T21:13:05.681521Z",
     "iopub.status.idle": "2024-11-15T21:13:05.691886Z",
     "shell.execute_reply": "2024-11-15T21:13:05.690402Z"
    },
    "id": "cBgyNJ5z0VSs",
    "papermill": {
     "duration": 0.035457,
     "end_time": "2024-11-15T21:13:05.694560",
     "exception": false,
     "start_time": "2024-11-15T21:13:05.659103",
     "status": "completed"
    },
    "tags": []
   },
   "outputs": [],
   "source": [
    "model_instructions = \"\"\"\n",
    "Solve a question answering task with interleaving Thought, Action, Observation steps. Thought can reason about the current situation,\n",
    "Observation is understanding relevant information from an Action's output and Action can be one of three types:\n",
    " (1) <search>entity</search>, which searches the exact entity on Wikipedia and returns the first paragraph if it exists. If not, it\n",
    "     will return some similar entities to search and you can try to search the information from those topics.\n",
    " (2) <lookup>keyword</lookup>, which returns the next sentence containing keyword in the current context. This only does exact matches,\n",
    "     so keep your searches short.\n",
    " (3) <finish>answer</finish>, which returns the answer and finishes the task.\n",
    "\"\"\"\n",
    "\n",
    "example1 = \"\"\"Question\n",
    "Musician and satirist Allie Goertz wrote a song about the \"The Simpsons\" character Milhouse, who Matt Groening named after who?\n",
    "\n",
    "Thought 1\n",
    "The question simplifies to \"The Simpsons\" character Milhouse is named after who. I only need to search Milhouse and find who it is named after.\n",
    "\n",
    "Action 1\n",
    "<search>Milhouse</search>\n",
    "\n",
    "Observation 1\n",
    "Milhouse Mussolini Van Houten is a recurring character in the Fox animated television series The Simpsons voiced by Pamela Hayden and created by Matt Groening.\n",
    "\n",
    "Thought 2\n",
    "The paragraph does not tell who Milhouse is named after, maybe I can look up \"named after\".\n",
    "\n",
    "Action 2\n",
    "<lookup>named after</lookup>\n",
    "\n",
    "Observation 2\n",
    "Milhouse was named after U.S. president Richard Nixon, whose middle name was Milhous.\n",
    "\n",
    "Thought 3\n",
    "Milhouse was named after U.S. president Richard Nixon, so the answer is Richard Nixon.\n",
    "\n",
    "Action 3\n",
    "<finish>Richard Nixon</finish>\n",
    "\"\"\"\n",
    "\n",
    "example2 = \"\"\"Question\n",
    "What is the elevation range for the area that the eastern sector of the Colorado orogeny extends into?\n",
    "\n",
    "Thought 1\n",
    "I need to search Colorado orogeny, find the area that the eastern sector of the Colorado orogeny extends into, then find the elevation range of the area.\n",
    "\n",
    "Action 1\n",
    "<search>Colorado orogeny</search>\n",
    "\n",
    "Observation 1\n",
    "The Colorado orogeny was an episode of mountain building (an orogeny) in Colorado and surrounding areas.\n",
    "\n",
    "Thought 2\n",
    "It does not mention the eastern sector. So I need to look up eastern sector.\n",
    "\n",
    "Action 2\n",
    "<lookup>eastern sector</lookup>\n",
    "\n",
    "Observation 2\n",
    "The eastern sector extends into the High Plains and is called the Central Plains orogeny.\n",
    "\n",
    "Thought 3\n",
    "The eastern sector of Colorado orogeny extends into the High Plains. So I need to search High Plains and find its elevation range.\n",
    "\n",
    "Action 3\n",
    "<search>High Plains</search>\n",
    "\n",
    "Observation 3\n",
    "High Plains refers to one of two distinct land regions\n",
    "\n",
    "Thought 4\n",
    "I need to instead search High Plains (United States).\n",
    "\n",
    "Action 4\n",
    "<search>High Plains (United States)</search>\n",
    "\n",
    "Observation 4\n",
    "The High Plains are a subregion of the Great Plains. From east to west, the High Plains rise in elevation from around 1,800 to 7,000 ft (550 to 2,130m).\n",
    "\n",
    "Thought 5\n",
    "High Plains rise in elevation from around 1,800 to 7,000 ft, so the answer is 1,800 to 7,000 ft.\n",
    "\n",
    "Action 5\n",
    "<finish>1,800 to 7,000 ft</finish>\n",
    "\"\"\"\n",
    "\n",
    "# Come up with more examples yourself, or take a look through https://github.com/ysymyth/ReAct/"
   ]
  },
  {
   "cell_type": "markdown",
   "id": "352202e6",
   "metadata": {
    "id": "C3wbfstjTgey",
    "papermill": {
     "duration": 0.021023,
     "end_time": "2024-11-15T21:13:05.736812",
     "exception": false,
     "start_time": "2024-11-15T21:13:05.715789",
     "status": "completed"
    },
    "tags": []
   },
   "source": [
    "To capture a single step at a time, while ignoring any hallucinated Observation steps, you will use `stop_sequences` to end the generation process. The steps are `Thought`, `Action`, `Observation`, in that order."
   ]
  },
  {
   "cell_type": "code",
   "execution_count": 24,
   "id": "0d95749f",
   "metadata": {
    "execution": {
     "iopub.execute_input": "2024-11-15T21:13:05.780195Z",
     "iopub.status.busy": "2024-11-15T21:13:05.779745Z",
     "iopub.status.idle": "2024-11-15T21:13:38.952483Z",
     "shell.execute_reply": "2024-11-15T21:13:38.951223Z"
    },
    "id": "8mxrXRkRTdXm",
    "papermill": {
     "duration": 33.217674,
     "end_time": "2024-11-15T21:13:38.975285",
     "exception": false,
     "start_time": "2024-11-15T21:13:05.757611",
     "status": "completed"
    },
    "tags": []
   },
   "outputs": [
    {
     "name": "stdout",
     "output_type": "stream",
     "text": [
      "Thought 1\n",
      "I need to find the Transformers NLP paper and then find the authors' ages to determine the youngest.  This will require finding the paper and then likely searching for information on each author.\n",
      "\n",
      "\n",
      "Action 1\n",
      "<search>Transformers NLP paper</search>\n",
      "\n"
     ]
    }
   ],
   "source": [
    "question = \"\"\"Question\n",
    "Who was the youngest author listed on the transformers NLP paper?\n",
    "\"\"\"\n",
    "\n",
    "model = genai.GenerativeModel('gemini-1.5-flash-latest')\n",
    "react_chat = model.start_chat()\n",
    "\n",
    "# You will perform the Action, so generate up to, but not including, the Observation.\n",
    "config = genai.GenerationConfig(stop_sequences=[\"\\nObservation\"])\n",
    "\n",
    "resp = react_chat.send_message(\n",
    "    [model_instructions, example1, example2, question],\n",
    "    generation_config=config)\n",
    "print(resp.text)"
   ]
  },
  {
   "cell_type": "markdown",
   "id": "a0fcbe83",
   "metadata": {
    "id": "aW2PIdLbVv3l",
    "papermill": {
     "duration": 0.020659,
     "end_time": "2024-11-15T21:13:39.016884",
     "exception": false,
     "start_time": "2024-11-15T21:13:38.996225",
     "status": "completed"
    },
    "tags": []
   },
   "source": [
    "Now you can perform this research yourself and supply it back to the model."
   ]
  },
  {
   "cell_type": "code",
   "execution_count": 25,
   "id": "c6a400ac",
   "metadata": {
    "execution": {
     "iopub.execute_input": "2024-11-15T21:13:39.061296Z",
     "iopub.status.busy": "2024-11-15T21:13:39.060420Z",
     "iopub.status.idle": "2024-11-15T21:15:40.057391Z",
     "shell.execute_reply": "2024-11-15T21:15:40.056122Z"
    },
    "id": "mLMc0DZaV9g2",
    "papermill": {
     "duration": 121.043759,
     "end_time": "2024-11-15T21:15:40.081882",
     "exception": false,
     "start_time": "2024-11-15T21:13:39.038123",
     "status": "completed"
    },
    "tags": []
   },
   "outputs": [
    {
     "name": "stdout",
     "output_type": "stream",
     "text": [
      "Thought 2\n",
      "The observation provides the authors of the paper \"Attention is All You Need\". I need to find their ages or ages at the time of publication.  This will likely involve separate searches for each author.\n",
      "\n",
      "\n",
      "Action 2\n",
      "<search>Ashish Vaswani age>\n",
      "\n",
      "\n"
     ]
    }
   ],
   "source": [
    "observation = \"\"\"Observation 1\n",
    "[1706.03762] Attention Is All You Need\n",
    "Ashish Vaswani, Noam Shazeer, Niki Parmar, Jakob Uszkoreit, Llion Jones, Aidan N. Gomez, Lukasz Kaiser, Illia Polosukhin\n",
    "We propose a new simple network architecture, the Transformer, based solely on attention mechanisms, dispensing with recurrence and convolutions entirely.\n",
    "\"\"\"\n",
    "resp = react_chat.send_message(observation, generation_config=config)\n",
    "print(resp.text)"
   ]
  },
  {
   "cell_type": "markdown",
   "id": "b8118276",
   "metadata": {
    "id": "bo0tzf4nX6dA",
    "papermill": {
     "duration": 0.020799,
     "end_time": "2024-11-15T21:15:40.123545",
     "exception": false,
     "start_time": "2024-11-15T21:15:40.102746",
     "status": "completed"
    },
    "tags": []
   },
   "source": [
    "This process repeats until the `<finish>` action is reached. You can continue running this yourself if you like, or try the [Wikipedia example](https://github.com/google-gemini/cookbook/blob/main/examples/Search_Wikipedia_using_ReAct.ipynb) to see a fully automated ReAct system at work."
   ]
  },
  {
   "cell_type": "markdown",
   "id": "f1f06f96",
   "metadata": {
    "id": "jPiZ_eIIaVPt",
    "papermill": {
     "duration": 0.020637,
     "end_time": "2024-11-15T21:15:40.165202",
     "exception": false,
     "start_time": "2024-11-15T21:15:40.144565",
     "status": "completed"
    },
    "tags": []
   },
   "source": [
    "## Code prompting"
   ]
  },
  {
   "cell_type": "markdown",
   "id": "2dc62c43",
   "metadata": {
    "id": "ZinKamwXeR6C",
    "papermill": {
     "duration": 0.020598,
     "end_time": "2024-11-15T21:15:40.206736",
     "exception": false,
     "start_time": "2024-11-15T21:15:40.186138",
     "status": "completed"
    },
    "tags": []
   },
   "source": [
    "### Generating code\n",
    "\n",
    "The Gemini family of models can be used to generate code, configuration and scripts. Generating code can be helpful when learning to code, learning a new language or for rapidly generating a first draft.\n",
    "\n",
    "It's important to be aware that since LLMs can't reason, and can repeat training data, it's essential to read and test your code first, and comply with any relevant licenses.\n",
    "\n",
    "<table align=left>\n",
    "  <td>\n",
    "    <a target=\"_blank\" href=\"https://aistudio.google.com/prompts/1YX71JGtzDjXQkgdes8bP6i3oH5lCRKxv\"><img src=\"https://ai.google.dev/site-assets/images/marketing/home/icon-ais.png\" style=\"height: 24px\" height=24/> Open in AI Studio</a>\n",
    "  </td>\n",
    "</table>"
   ]
  },
  {
   "cell_type": "code",
   "execution_count": 26,
   "id": "a194a648",
   "metadata": {
    "execution": {
     "iopub.execute_input": "2024-11-15T21:15:40.252237Z",
     "iopub.status.busy": "2024-11-15T21:15:40.251253Z",
     "iopub.status.idle": "2024-11-15T21:16:04.609995Z",
     "shell.execute_reply": "2024-11-15T21:16:04.608753Z"
    },
    "id": "fOQP9pqmeUO1",
    "papermill": {
     "duration": 24.383938,
     "end_time": "2024-11-15T21:16:04.612683",
     "exception": false,
     "start_time": "2024-11-15T21:15:40.228745",
     "status": "completed"
    },
    "tags": []
   },
   "outputs": [
    {
     "data": {
      "text/markdown": [
       "```python\n",
       "def factorial(n):\n",
       "  if n == 0:\n",
       "    return 1\n",
       "  else:\n",
       "    return n * factorial(n-1)\n",
       "```\n"
      ],
      "text/plain": [
       "<IPython.core.display.Markdown object>"
      ]
     },
     "execution_count": 26,
     "metadata": {},
     "output_type": "execute_result"
    }
   ],
   "source": [
    "model = genai.GenerativeModel(\n",
    "    'gemini-1.5-flash-latest',\n",
    "    generation_config=genai.GenerationConfig(\n",
    "        temperature=1,\n",
    "        top_p=1,\n",
    "        max_output_tokens=1024,\n",
    "    ))\n",
    "\n",
    "# Gemini 1.5 models are very chatty, so it helps to specify they stick to the code.\n",
    "code_prompt = \"\"\"\n",
    "Write a Python function to calculate the factorial of a number. No explanation, provide only the code.\n",
    "\"\"\"\n",
    "\n",
    "response = model.generate_content(code_prompt)\n",
    "Markdown(response.text)"
   ]
  },
  {
   "cell_type": "markdown",
   "id": "29cb7616",
   "metadata": {
    "id": "wlBMWSFhgVRQ",
    "papermill": {
     "duration": 0.021201,
     "end_time": "2024-11-15T21:16:04.655131",
     "exception": false,
     "start_time": "2024-11-15T21:16:04.633930",
     "status": "completed"
    },
    "tags": []
   },
   "source": [
    "### Code execution\n",
    "\n",
    "The Gemini API can automatically run generated code too, and will return the output.\n",
    "\n",
    "<table align=left>\n",
    "  <td>\n",
    "    <a target=\"_blank\" href=\"https://aistudio.google.com/prompts/11veFr_VYEwBWcLkhNLr-maCG0G8sS_7Z\"><img src=\"https://ai.google.dev/site-assets/images/marketing/home/icon-ais.png\" style=\"height: 24px\" height=24/> Open in AI Studio</a>\n",
    "  </td>\n",
    "</table>"
   ]
  },
  {
   "cell_type": "code",
   "execution_count": 27,
   "id": "f1cf89c8",
   "metadata": {
    "execution": {
     "iopub.execute_input": "2024-11-15T21:16:04.700273Z",
     "iopub.status.busy": "2024-11-15T21:16:04.699816Z",
     "iopub.status.idle": "2024-11-15T21:20:44.956051Z",
     "shell.execute_reply": "2024-11-15T21:20:44.954767Z"
    },
    "id": "jT3OfWYfhjRL",
    "papermill": {
     "duration": 280.303502,
     "end_time": "2024-11-15T21:20:44.979778",
     "exception": false,
     "start_time": "2024-11-15T21:16:04.676276",
     "status": "completed"
    },
    "tags": []
   },
   "outputs": [
    {
     "data": {
      "text/markdown": [
       "To calculate the sum of the first 14 odd prime numbers, I will first generate a list of prime numbers, filter out even numbers (leaving only odd primes), and then sum the first 14 of them.\n",
       "\n",
       "\n",
       "\n",
       "``` python\n",
       "import sympy\n",
       "\n",
       "def is_prime(n):\n",
       "    \"\"\"Checks if a number is prime.\"\"\"\n",
       "    return sympy.isprime(n)\n",
       "\n",
       "\n",
       "def generate_primes(limit):\n",
       "    \"\"\"Generates prime numbers up to a limit.\"\"\"\n",
       "    primes = []\n",
       "    num = 2\n",
       "    while len(primes) < limit + 10:  # Generate a few extra to ensure we get 14 odd primes\n",
       "        if is_prime(num):\n",
       "            primes.append(num)\n",
       "        num += 1\n",
       "    return primes\n",
       "\n",
       "primes = generate_primes(100) # Generate enough primes\n",
       "\n",
       "odd_primes = [p for p in primes if p % 2 != 0]\n",
       "\n",
       "first_fourteen_odd_primes = odd_primes[:14]\n",
       "\n",
       "sum_of_primes = sum(first_fourteen_odd_primes)\n",
       "\n",
       "print(f\"First 14 odd primes: {first_fourteen_odd_primes}\")\n",
       "print(f\"Sum of the first 14 odd primes: {sum_of_primes}\")\n",
       "\n",
       "\n",
       "```\n",
       "```\n",
       "First 14 odd primes: [3, 5, 7, 11, 13, 17, 19, 23, 29, 31, 37, 41, 43, 47]\n",
       "Sum of the first 14 odd primes: 326\n",
       "\n",
       "```\n",
       "The first 14 odd prime numbers are: 3, 5, 7, 11, 13, 17, 19, 23, 29, 31, 37, 41, 43, 47.  Their sum is 326.\n"
      ],
      "text/plain": [
       "<IPython.core.display.Markdown object>"
      ]
     },
     "execution_count": 27,
     "metadata": {},
     "output_type": "execute_result"
    }
   ],
   "source": [
    "model = genai.GenerativeModel(\n",
    "    'gemini-1.5-flash-latest',\n",
    "    tools='code_execution')\n",
    "\n",
    "code_exec_prompt = \"\"\"\n",
    "Calculate the sum of the first 14 prime numbers. Only consider the odd primes, and make sure you get them all.\n",
    "\"\"\"\n",
    "\n",
    "response = model.generate_content(code_exec_prompt)\n",
    "Markdown(response.text)"
   ]
  },
  {
   "cell_type": "markdown",
   "id": "f0718b18",
   "metadata": {
    "id": "ZspT1GSkjG6d",
    "papermill": {
     "duration": 0.021568,
     "end_time": "2024-11-15T21:20:45.023516",
     "exception": false,
     "start_time": "2024-11-15T21:20:45.001948",
     "status": "completed"
    },
    "tags": []
   },
   "source": [
    "While this looks like a single-part response, you can inspect the response to see the each of the steps: initial text, code generation, execution results, and final text summary."
   ]
  },
  {
   "cell_type": "code",
   "execution_count": 28,
   "id": "9c6daf47",
   "metadata": {
    "execution": {
     "iopub.execute_input": "2024-11-15T21:20:45.070624Z",
     "iopub.status.busy": "2024-11-15T21:20:45.070140Z",
     "iopub.status.idle": "2024-11-15T21:20:45.077437Z",
     "shell.execute_reply": "2024-11-15T21:20:45.076100Z"
    },
    "id": "j4gQVzcRjRX-",
    "papermill": {
     "duration": 0.035178,
     "end_time": "2024-11-15T21:20:45.080660",
     "exception": false,
     "start_time": "2024-11-15T21:20:45.045482",
     "status": "completed"
    },
    "tags": []
   },
   "outputs": [
    {
     "name": "stdout",
     "output_type": "stream",
     "text": [
      "text: \"To calculate the sum of the first 14 odd prime numbers, I will first generate a list of prime numbers, filter out even numbers (leaving only odd primes), and then sum the first 14 of them.\\n\\n\\n\"\n",
      "\n",
      "-----\n",
      "executable_code {\n",
      "  language: PYTHON\n",
      "  code: \"\\nimport sympy\\n\\ndef is_prime(n):\\n    \\\"\\\"\\\"Checks if a number is prime.\\\"\\\"\\\"\\n    return sympy.isprime(n)\\n\\n\\ndef generate_primes(limit):\\n    \\\"\\\"\\\"Generates prime numbers up to a limit.\\\"\\\"\\\"\\n    primes = []\\n    num = 2\\n    while len(primes) < limit + 10:  # Generate a few extra to ensure we get 14 odd primes\\n        if is_prime(num):\\n            primes.append(num)\\n        num += 1\\n    return primes\\n\\nprimes = generate_primes(100) # Generate enough primes\\n\\nodd_primes = [p for p in primes if p % 2 != 0]\\n\\nfirst_fourteen_odd_primes = odd_primes[:14]\\n\\nsum_of_primes = sum(first_fourteen_odd_primes)\\n\\nprint(f\\\"First 14 odd primes: {first_fourteen_odd_primes}\\\")\\nprint(f\\\"Sum of the first 14 odd primes: {sum_of_primes}\\\")\\n\\n\"\n",
      "}\n",
      "\n",
      "-----\n",
      "code_execution_result {\n",
      "  outcome: OUTCOME_OK\n",
      "  output: \"First 14 odd primes: [3, 5, 7, 11, 13, 17, 19, 23, 29, 31, 37, 41, 43, 47]\\nSum of the first 14 odd primes: 326\\n\"\n",
      "}\n",
      "\n",
      "-----\n",
      "text: \"The first 14 odd prime numbers are: 3, 5, 7, 11, 13, 17, 19, 23, 29, 31, 37, 41, 43, 47.  Their sum is 326.\\n\"\n",
      "\n",
      "-----\n"
     ]
    }
   ],
   "source": [
    "for part in response.candidates[0].content.parts:\n",
    "  print(part)\n",
    "  print(\"-----\")"
   ]
  },
  {
   "cell_type": "markdown",
   "id": "19649e10",
   "metadata": {
    "id": "1gUX8QzCj4d5",
    "papermill": {
     "duration": 0.021809,
     "end_time": "2024-11-15T21:20:45.124672",
     "exception": false,
     "start_time": "2024-11-15T21:20:45.102863",
     "status": "completed"
    },
    "tags": []
   },
   "source": [
    "### Explaining code\n",
    "\n",
    "The Gemini family of models can explain code to you too.\n",
    "\n",
    "<table align=left>\n",
    "  <td>\n",
    "    <a target=\"_blank\" href=\"https://aistudio.google.com/prompts/1N7LGzWzCYieyOf_7bAG4plrmkpDNmUyb\"><img src=\"https://ai.google.dev/site-assets/images/marketing/home/icon-ais.png\" style=\"height: 24px\" height=24/> Open in AI Studio</a>\n",
    "  </td>\n",
    "</table>"
   ]
  },
  {
   "cell_type": "code",
   "execution_count": 29,
   "id": "886f04a7",
   "metadata": {
    "execution": {
     "iopub.execute_input": "2024-11-15T21:20:45.172873Z",
     "iopub.status.busy": "2024-11-15T21:20:45.172398Z",
     "iopub.status.idle": "2024-11-15T21:20:59.842696Z",
     "shell.execute_reply": "2024-11-15T21:20:59.841285Z"
    },
    "id": "7_jPMMoxkIEb",
    "papermill": {
     "duration": 14.697343,
     "end_time": "2024-11-15T21:20:59.845640",
     "exception": false,
     "start_time": "2024-11-15T21:20:45.148297",
     "status": "completed"
    },
    "tags": []
   },
   "outputs": [
    {
     "data": {
      "text/markdown": [
       "This file is a bash script that enhances your shell prompt to display information about your current Git repository.  In short, it's a **Git prompt customization script**.\n",
       "\n",
       "You would use it to:\n",
       "\n",
       "* **Improve your Git workflow:**  By showing the current branch, status (changes, conflicts, etc.), and potentially other Git-related information directly in your shell prompt, you gain a quick overview of your repository's state without needing to run separate `git status` commands frequently.  This makes it easier to keep track of your work and identify potential issues.\n",
       "\n",
       "* **Customize your prompt's appearance:** The script allows you to select from different color themes or even create your own, providing a visually appealing and informative prompt.  It also supports various options to adjust what information is displayed and how it's formatted.\n",
       "\n",
       "In essence, it's a tool for improving both the efficiency and aesthetics of your command-line experience when working with Git.  The script handles various edge cases, like supporting different shells (bash and zsh), managing asynchronous Git operations (like fetching remote changes), and providing options for detailed or simplified output.\n"
      ],
      "text/plain": [
       "<IPython.core.display.Markdown object>"
      ]
     },
     "execution_count": 29,
     "metadata": {},
     "output_type": "execute_result"
    }
   ],
   "source": [
    "file_contents = !curl https://raw.githubusercontent.com/magicmonty/bash-git-prompt/refs/heads/master/gitprompt.sh\n",
    "\n",
    "explain_prompt = f\"\"\"\n",
    "Please explain what this file does at a very high level. What is it, and why would I use it?\n",
    "\n",
    "```\n",
    "{file_contents}\n",
    "```\n",
    "\"\"\"\n",
    "\n",
    "model = genai.GenerativeModel('gemini-1.5-flash-latest')\n",
    "\n",
    "response = model.generate_content(explain_prompt)\n",
    "Markdown(response.text)"
   ]
  },
  {
   "cell_type": "markdown",
   "id": "ffee37fd",
   "metadata": {
    "id": "2a8266d97ce5",
    "papermill": {
     "duration": 0.023993,
     "end_time": "2024-11-15T21:20:59.894145",
     "exception": false,
     "start_time": "2024-11-15T21:20:59.870152",
     "status": "completed"
    },
    "tags": []
   },
   "source": [
    "## Learn more\n",
    "\n",
    "To learn more about prompting in depth:\n",
    "\n",
    "* Check out the whitepaper issued with today's content,\n",
    "* Try out the apps listed at the top of this notebook ([TextFX](https://textfx.withgoogle.com/), [SQL Talk](https://sql-talk-r5gdynozbq-uc.a.run.app/) and [NotebookLM](https://notebooklm.google/)),\n",
    "* Read the [Introduction to Prompting](https://ai.google.dev/gemini-api/docs/prompting-intro) from the Gemini API docs,\n",
    "* Explore the Gemini API's [prompt gallery](https://ai.google.dev/gemini-api/prompts) and try them out in AI Studio,\n",
    "* Check out the Gemini API cookbook for [inspirational examples](https://github.com/google-gemini/cookbook/blob/main/examples/) and [educational quickstarts](https://github.com/google-gemini/cookbook/blob/main/quickstarts/).\n",
    "\n",
    "And please share anything exciting you have tried in the Discord!"
   ]
  }
 ],
 "metadata": {
  "colab": {
   "name": "day-1-prompting.ipynb",
   "toc_visible": true
  },
  "kaggle": {
   "accelerator": "none",
   "dataSources": [],
   "dockerImageVersionId": 30786,
   "isGpuEnabled": false,
   "isInternetEnabled": true,
   "language": "python",
   "sourceType": "notebook"
  },
  "kernelspec": {
   "display_name": "Python 3",
   "language": "python",
   "name": "python3"
  },
  "language_info": {
   "codemirror_mode": {
    "name": "ipython",
    "version": 3
   },
   "file_extension": ".py",
   "mimetype": "text/x-python",
   "name": "python",
   "nbconvert_exporter": "python",
   "pygments_lexer": "ipython3",
   "version": "3.10.14"
  },
  "papermill": {
   "default_parameters": {},
   "duration": 1917.638212,
   "end_time": "2024-11-15T21:21:00.539896",
   "environment_variables": {},
   "exception": null,
   "input_path": "__notebook__.ipynb",
   "output_path": "__notebook__.ipynb",
   "parameters": {},
   "start_time": "2024-11-15T20:49:02.901684",
   "version": "2.6.0"
  }
 },
 "nbformat": 4,
 "nbformat_minor": 5
}
